{
  "cells": [
    {
      "cell_type": "markdown",
      "metadata": {
        "id": "view-in-github",
        "colab_type": "text"
      },
      "source": [
        "<a href=\"https://colab.research.google.com/github/cwl286/ncode-crawler/blob/main/ncode.ipynb\" target=\"_parent\"><img src=\"https://colab.research.google.com/assets/colab-badge.svg\" alt=\"Open In Colab\"/></a>"
      ]
    },
    {
      "cell_type": "markdown",
      "metadata": {
        "id": "Q5sz5PU03CWV"
      },
      "source": [
        "# カクヨムから一括ダウンロードをしてepub/mobiを作る\n",
        "\n",
        "- Create novel epub & mobi from https://ncode.syosetu.com/\n",
        "  - Mount Google Drive\n",
        "  - Load htmls from Google Drive (saved in the last time processing if exist) \n",
        "  - (Starting from the last episode) or from the 1st episodes\n",
        "  - Save novel's htmls and parsed htmls into \"syosetu\" folder in Google Drive\n",
        "  - Save epub and mobi into \"syosetu/epub\" and \"syosetu/mobi\" folder in Google Drive\n",
        "\n",
        "e.g. https://ncode.syosetu.com/n4698cv/\n",
        "e.g. ncode: n4698cv\n",
        " "
      ]
    },
    {
      "cell_type": "code",
      "execution_count": null,
      "metadata": {
        "id": "ArjDw68G3BSP",
        "cellView": "form"
      },
      "outputs": [],
      "source": [
        "##### INPUT AREA\n",
        "#@title INPUT { run: \"auto\" }\n",
        "NCODE=\"n4444ge\" #@param {type:\"string\"}"
      ]
    },
    {
      "cell_type": "code",
      "execution_count": null,
      "metadata": {
        "id": "dvXqj6RBHlph"
      },
      "outputs": [],
      "source": [
        "##############################\n",
        "# Mount gdrive \n",
        "##############################\n",
        "from google.colab import drive\n",
        "drive.mount(\"/content/gdrive/\")"
      ]
    },
    {
      "cell_type": "code",
      "execution_count": null,
      "metadata": {
        "id": "SImGG2-JAnax"
      },
      "outputs": [],
      "source": [
        "##############################\n",
        "##### Initialize varibles\n",
        "##############################\n",
        "from bs4 import BeautifulSoup\n",
        "import glob\n",
        "import os\n",
        "import subprocess\n",
        "import requests\n",
        "import shutil\n",
        "\n",
        "# Init vars\n",
        "CHAPTER_BEG = 1\n",
        "CHAPTER_NUM = CHAPTER_BEG + 1\n",
        "TITLE = \"\"\n",
        "CREATOR = \"\"\n",
        "\n",
        "BASE_URL=f\"https://ncode.syosetu.com/{NCODE}/\"\n",
        "ORG_DIR=f\"{NCODE}_org\"\n",
        "DRIVE_DIR = \"syosetu\"\n",
        "\n",
        "EPUB_NAME=f\"{TITLE}.epub\"\n",
        "MOBI_NAME=f\"{TITLE}.mobi\"\n",
        "\n",
        "\n",
        "# Make colab directories\n",
        "!mkdir -p $NCODE\n",
        "!mkdir -p $ORG_DIR"
      ]
    },
    {
      "cell_type": "code",
      "execution_count": null,
      "metadata": {
        "id": "6Ck2cr-j-qQh"
      },
      "outputs": [],
      "source": [
        "##############################\n",
        "# Create google drive directories\n",
        "##############################\n",
        "try:\n",
        "    os.mkdir(f\"/content/gdrive/My Drive/{DRIVE_DIR}\")\n",
        "except Exception as e:\n",
        "    print(e)\n",
        "\n",
        "# Create dir for parsed ncodes\n",
        "try:\n",
        "    os.mkdir(f\"/content/gdrive/My Drive/{DRIVE_DIR}/{NCODE}\")\n",
        "except Exception as e:\n",
        "    print(e)\n",
        "\n",
        "# Create dir for org ncodes\n",
        "try:\n",
        "    os.mkdir(f\"/content/gdrive/My Drive/{DRIVE_DIR}/{ORG_DIR}\")\n",
        "except Exception as e:\n",
        "    print(e)\n",
        "\n",
        "# Create dir for org ncodes\n",
        "try:\n",
        "    os.mkdir(f\"/content/gdrive/My Drive/{DRIVE_DIR}/epub\")\n",
        "except Exception as e:\n",
        "    print(e)\n",
        "\n",
        "# Create dir for org ncodes\n",
        "try:\n",
        "    os.mkdir(f\"/content/gdrive/My Drive/{DRIVE_DIR}/mobi\")\n",
        "except Exception as e:\n",
        "    print(e)"
      ]
    },
    {
      "cell_type": "code",
      "execution_count": null,
      "metadata": {
        "id": "7NdcY8RR-33j"
      },
      "outputs": [],
      "source": [
        "##############################\n",
        "# Clone google drive files to colab for CHAPTER_BEG\n",
        "##############################\n",
        "for html_path in glob.glob(f\"/content/gdrive/My Drive/{DRIVE_DIR}/{NCODE}/*.html\"):\n",
        "  shutil.copy(html_path, f\"{NCODE}/{os.path.basename(html_path)}\")"
      ]
    },
    {
      "cell_type": "code",
      "execution_count": null,
      "metadata": {
        "id": "G0c6pd-qsZDk"
      },
      "outputs": [],
      "source": [
        "##############################\n",
        "##### Download main.html to update TITLE, CREATOR, CHAPTER_NUM\n",
        "##############################\n",
        "!curl $BASE_URL > main.html\n",
        "with open(\"main.html\") as f:\n",
        "    # query TITLE, CREATOR, CHAPTER_NUM\n",
        "    text1 = f.read()\n",
        "    soup1 = BeautifulSoup(text1, 'html.parser')\n",
        "    TITLE  = str(soup1.title.string)\n",
        "    CREATOR = str(soup1.find(\"div\", class_=\"novel_writername\").string)\n",
        "    CHAPTER_NUM= len(soup1.find_all(\"dl\", class_=\"novel_sublist2\"))\n",
        "os.remove(\"main.html\")\n",
        "\n",
        "# set variables\n",
        "CHAPTER_BEG = len(glob.glob(f'{NCODE}/*.html')) + 1\n",
        "EPUB_NAME=f\"{TITLE}.epub\"\n",
        "MOBI_NAME=f\"{TITLE}.mobi\""
      ]
    },
    {
      "cell_type": "code",
      "execution_count": null,
      "metadata": {
        "id": "8Pj0dZhyDHZV"
      },
      "outputs": [],
      "source": [
        "##############################\n",
        "##### Print parameters\n",
        "##############################\n",
        "print(EPUB_NAME)\n",
        "print(CREATOR)\n",
        "print([CHAPTER_BEG, CHAPTER_NUM])"
      ]
    },
    {
      "cell_type": "code",
      "execution_count": null,
      "metadata": {
        "id": "3NadV3sTeCVQ"
      },
      "outputs": [],
      "source": [
        "for i in range(CHAPTER_BEG, CHAPTER_NUM + 1):\n",
        "  url = f\"{BASE_URL}{i}/\"\n",
        "  print(f\"downloading {i}/{CHAPTER_NUM} : {url}\")\n",
        "  file_name = f\"{ORG_DIR}/{i:05d}.html\" # Move file to _org dir\n",
        "  !curl $url > $file_name"
      ]
    },
    {
      "cell_type": "code",
      "execution_count": null,
      "metadata": {
        "id": "dEdrIT2fgUnu"
      },
      "outputs": [],
      "source": [
        "##############################\n",
        "##### Parse HTML\n",
        "##############################\n",
        "TEMPLATE = \"\"\"\n",
        "<html>\n",
        "  <head>\n",
        "    <meta charset=\"UTF-8\">\n",
        "    {0}\n",
        "  </head>\n",
        "  <body>\n",
        "    <h1>{1}</h1>\n",
        "    {2}\n",
        "    <hr/>\n",
        "    {3}\n",
        "  </body>\n",
        "</html>\n",
        "\"\"\"\n",
        "\n",
        "def extract_article(fname):\n",
        "  with open(f\"{ORG_DIR}/{fname}\") as f:\n",
        "    text = f.read()\n",
        "  with open(f\"{NCODE}/{fname}\", \"w\") as f:\n",
        "    soup = BeautifulSoup(text, 'html.parser')\n",
        "    f.write(TEMPLATE.format(str(soup.title), \n",
        "                            str(soup.find(\"p\", class_=\"novel_subtitle\").string), \n",
        "                            str(soup.find(id=\"novel_honbun\")).replace(\"<br/>\", \"\"), \n",
        "                            str(soup.find(id=\"novel_attention\"))\n",
        "                            )\n",
        "    )\n",
        "fnames = [os.path.basename(f) for f in glob.glob(f'{ORG_DIR}/*.html')]\n",
        "[extract_article(f) for f in fnames]"
      ]
    },
    {
      "cell_type": "code",
      "execution_count": null,
      "metadata": {
        "id": "PzwEHtSBDLWP"
      },
      "outputs": [],
      "source": [
        "##############################\n",
        "##### Convert HTML to epud\n",
        "##############################\n",
        "meta1 = f'--metadata=title:\"{TITLE}\"'\n",
        "meta2 = f'--metadata=author:\"{CREATOR}\"' \n",
        "meta3 = f'--metadata=lang:\"ja\"'\n",
        "html_paths = sorted(glob.glob(f'{NCODE}/*.html'))  \n",
        "\n",
        "cmd = ['pandoc', '-o', EPUB_NAME, meta1, meta2, meta3]\n",
        "cmd.extend(html_paths)\n",
        "subprocess.call(cmd)"
      ]
    },
    {
      "cell_type": "code",
      "execution_count": null,
      "metadata": {
        "id": "jNZRSN-PcORY",
        "collapsed": true
      },
      "outputs": [],
      "source": [
        "##############################\n",
        "##### Install if needed https://calibre-ebook.com/download_linux\n",
        "##############################\n",
        "!sudo -v && wget -nv -O- https://download.calibre-ebook.com/linux-installer.sh | sudo sh /dev/stdin"
      ]
    },
    {
      "cell_type": "code",
      "source": [
        "##############################\n",
        "##### Convert epub to mobi\n",
        "##### Refresh \"Files\" when done\n",
        "##############################\n",
        "cmd = [\"ebook-convert\",EPUB_NAME,MOBI_NAME]\n",
        "subprocess.call(cmd) "
      ],
      "metadata": {
        "id": "k0hPUPF0XhpQ"
      },
      "execution_count": null,
      "outputs": []
    },
    {
      "cell_type": "code",
      "execution_count": null,
      "metadata": {
        "id": "teykVzGxdD3r"
      },
      "outputs": [],
      "source": [
        "##############################\n",
        "# Copy colab files to google drive\n",
        "##############################\n",
        "for html_path in glob.glob(f'{NCODE}/*.html'):\n",
        "  shutil.copy(html_path, f\"/content/gdrive/My Drive/{DRIVE_DIR}/{html_path}\")\n",
        "for html_path in glob.glob(f'{ORG_DIR}/*.html'):\n",
        "  shutil.copy(html_path, f\"/content/gdrive/My Drive/{DRIVE_DIR}/{html_path}\")"
      ]
    },
    {
      "cell_type": "code",
      "source": [
        "if os.path.exists(f\"/content/gdrive/My Drive/{DRIVE_DIR}/epub/{EPUB_NAME}\"):\n",
        "  os.remove(f\"/content/gdrive/My Drive/{DRIVE_DIR}/epub/{EPUB_NAME}\") # remove old epub\n",
        "shutil.copy(EPUB_NAME, f\"/content/gdrive/My Drive/{DRIVE_DIR}/epub\")"
      ],
      "metadata": {
        "id": "XgnbPD0veCXL"
      },
      "execution_count": null,
      "outputs": []
    },
    {
      "cell_type": "code",
      "source": [
        "if os.path.exists(f\"/content/gdrive/My Drive/{DRIVE_DIR}/mobi/{MOBI_NAME}\"):\n",
        "  os.remove(f\"/content/gdrive/My Drive/{DRIVE_DIR}/mobi/{MOBI_NAME}\") # remove old mobi\n",
        "shutil.copy(MOBI_NAME, f\"/content/gdrive/My Drive/{DRIVE_DIR}/mobi\")"
      ],
      "metadata": {
        "id": "tSxBDx3JeCop"
      },
      "execution_count": null,
      "outputs": []
    }
  ],
  "metadata": {
    "colab": {
      "collapsed_sections": [],
      "name": "ncode",
      "provenance": [],
      "include_colab_link": true
    },
    "kernelspec": {
      "display_name": "Python 3",
      "name": "python3"
    }
  },
  "nbformat": 4,
  "nbformat_minor": 0
}